{
 "cells": [
  {
   "cell_type": "code",
   "execution_count": 23,
   "metadata": {},
   "outputs": [],
   "source": [
    "import numpy as np\n",
    "\n",
    "%matplotlib inline"
   ]
  },
  {
   "cell_type": "code",
   "execution_count": 32,
   "metadata": {},
   "outputs": [],
   "source": [
    "data = np.loadtxt(\"data.csv\", delimiter = \",\" )"
   ]
  },
  {
   "cell_type": "code",
   "execution_count": 33,
   "metadata": {},
   "outputs": [
    {
     "data": {
      "text/plain": [
       "((382, 2), 764)"
      ]
     },
     "execution_count": 33,
     "metadata": {},
     "output_type": "execute_result"
    }
   ],
   "source": [
    "data.shape,data.size"
   ]
  },
  {
   "cell_type": "code",
   "execution_count": 34,
   "metadata": {},
   "outputs": [
    {
     "data": {
      "text/plain": [
       "((382, 1), (382, 1))"
      ]
     },
     "execution_count": 34,
     "metadata": {},
     "output_type": "execute_result"
    }
   ],
   "source": [
    "x = data[:,0].reshape(-1,1)   \n",
    "y = data[:,1].reshape(-1,1)\n",
    "\n",
    "x.shape,y.shape"
   ]
  },
  {
   "cell_type": "code",
   "execution_count": 35,
   "metadata": {},
   "outputs": [
    {
     "data": {
      "text/plain": [
       "((305, 1), (77, 1), (305, 1), (77, 1))"
      ]
     },
     "execution_count": 35,
     "metadata": {},
     "output_type": "execute_result"
    }
   ],
   "source": [
    "from sklearn import model_selection\n",
    "\n",
    "X_train, X_test, Y_train, Y_test = model_selection.train_test_split(x, y, test_size = 0.2)\n",
    "\n",
    "X_train.shape,X_test.shape, Y_train.shape , Y_test.shape"
   ]
  },
  {
   "cell_type": "code",
   "execution_count": 36,
   "metadata": {},
   "outputs": [],
   "source": [
    "def fit(x_train,y_train):\n",
    "    num = (x_train*y_train).mean() - x_train.mean()*y_train.mean()\n",
    "    den = (x_train**2).mean() - x_train.mean()**2\n",
    "    m = num/den\n",
    "    \n",
    "    c = y_train.mean() - m*x_train.mean()\n",
    "    \n",
    "    return m,c"
   ]
  },
  {
   "cell_type": "code",
   "execution_count": 46,
   "metadata": {},
   "outputs": [],
   "source": [
    "def predict(x,m,c):\n",
    "    return m*x +c\n",
    "\n",
    "def score(y_true, y_pred):\n",
    "    \n",
    "    u = ((y_true - y_pred)**2).sum()\n",
    "    v = ((y_true - y_true.mean())**2).sum()\n",
    "    \n",
    "    return 1-u/v\n",
    "    \n",
    "    \n",
    "def cost(x,y,m,c):\n",
    "    \n",
    "    return ((y - m*x -c)**2).mean()"
   ]
  },
  {
   "cell_type": "code",
   "execution_count": 47,
   "metadata": {},
   "outputs": [
    {
     "name": "stdout",
     "output_type": "stream",
     "text": [
      "Test Score: -0.04725975125038073\n",
      "Train Score: 3.0344831506545766e-05\n",
      "M,C 0.007739908571343167 91.87266407393757\n",
      "Cost on Training Data 258.14084741203914\n"
     ]
    }
   ],
   "source": [
    "m,c = fit(X_train, Y_train)\n",
    "\n",
    "#on test data\n",
    "y_test_pred = predict(X_test,m,c)\n",
    "print(\"Test Score:\",score(Y_test,y_test_pred))\n",
    "\n",
    "\n",
    "#on train data\n",
    "y_train_pred = predict(X_train,m,c)\n",
    "print(\"Train Score:\", score(Y_train,y_train_pred))\n",
    "print(\"M,C\", m,c)\n",
    "print(\"Cost on Training Data\", cost(X_train, Y_train, m ,c))\n"
   ]
  },
  {
   "cell_type": "markdown",
   "metadata": {},
   "source": [
    "### Verifying the result from Sklearn Linear Regression Module"
   ]
  },
  {
   "cell_type": "code",
   "execution_count": 41,
   "metadata": {},
   "outputs": [
    {
     "data": {
      "text/plain": [
       "LinearRegression(copy_X=True, fit_intercept=True, n_jobs=1, normalize=False)"
      ]
     },
     "execution_count": 41,
     "metadata": {},
     "output_type": "execute_result"
    }
   ],
   "source": [
    "from sklearn.linear_model import LinearRegression\n",
    "\n",
    "alg1 = LinearRegression()\n",
    "alg1.fit(X_train,Y_train)"
   ]
  },
  {
   "cell_type": "code",
   "execution_count": 42,
   "metadata": {},
   "outputs": [
    {
     "data": {
      "text/plain": [
       "(array([[0.00773991]]), array([91.87266407]))"
      ]
     },
     "execution_count": 42,
     "metadata": {},
     "output_type": "execute_result"
    }
   ],
   "source": [
    "alg1.coef_,alg1.intercept_"
   ]
  },
  {
   "cell_type": "code",
   "execution_count": 45,
   "metadata": {},
   "outputs": [
    {
     "data": {
      "text/plain": [
       "(-0.047259751250379844, 3.0344831506323725e-05)"
      ]
     },
     "execution_count": 45,
     "metadata": {},
     "output_type": "execute_result"
    }
   ],
   "source": [
    "score_test = alg1.score(X_test, Y_test)\n",
    "\n",
    "score_train = alg1.score(X_train, Y_train)\n",
    "\n",
    "score_test, score_train"
   ]
  },
  {
   "cell_type": "markdown",
   "metadata": {},
   "source": [
    "#### Checking the fit on Test Data"
   ]
  },
  {
   "cell_type": "code",
   "execution_count": 40,
   "metadata": {},
   "outputs": [
    {
     "name": "stdout",
     "output_type": "stream",
     "text": [
      "(1000, 1) (1000, 1)\n"
     ]
    },
    {
     "data": {
      "image/png": "[encoded data removed]",
      "text/plain": [
       "<matplotlib.figure.Figure at 0x11edc3c8>"
      ]
     },
     "metadata": {},
     "output_type": "display_data"
    }
   ],
   "source": [
    "import matplotlib.pyplot as plt\n",
    "\n",
    "\n",
    "x_line = np.arange(40,140,0.1).reshape(-1,1)\n",
    "y_line = m*x_line +c\n",
    "# print(x_line)\n",
    "\n",
    "\n",
    "print(x_line.shape,y_line.shape)\n",
    "plt.plot(x_line,y_line,\"r\")\n",
    "plt.scatter(X_test, Y_test)\n",
    "plt.show()"
   ]
  }
 ],
 "metadata": {
  "kernelspec": {
   "display_name": "Python 3",
   "language": "python",
   "name": "python3"
  },
  "language_info": {
   "codemirror_mode": {
    "name": "ipython",
    "version": 3
   },
   "file_extension": ".py",
   "mimetype": "text/x-python",
   "name": "python",
   "nbconvert_exporter": "python",
   "pygments_lexer": "ipython3",
   "version": "3.5.4"
  }
 },
 "nbformat": 4,
 "nbformat_minor": 2
}
